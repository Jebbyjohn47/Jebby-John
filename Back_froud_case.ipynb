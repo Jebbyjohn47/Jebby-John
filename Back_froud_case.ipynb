{
 "cells": [
  {
   "cell_type": "markdown",
   "metadata": {
    "colab_type": "text",
    "id": "eCzaYgIl-ExI"
   },
   "source": [
    "# Bank Fears Loanliness"
   ]
  },
  {
   "cell_type": "markdown",
   "metadata": {
    "colab_type": "text",
    "id": "M2aCoSFg-ExK"
   },
   "source": [
    "Problem Statement\n",
    "\n",
    "The Bank Indessa has not done well in last 3 quarters. Their NPAs (Non Performing Assets) have reached all time high. It is starting to lose confidence of its investors. As a result, it’s stock has fallen by 20% in the previous quarter alone.\n",
    "\n",
    "After careful analysis, it was found that the majority of NPA was contributed by loan defaulters. With the messy data collected over all the years, this bank has decided to use machine learning to figure out a way to find these defaulters and devise a plan to reduce them.\n",
    "\n",
    "This bank uses a pool of investors to sanction their loans. For example: If any customer has applied for a loan of $20000, along with bank, the investors perform a due diligence on the requested loan application. Keep this in mind while understanding data.\n",
    "\n",
    "In this challenge, you will help this bank by predicting the probability that a member will default."
   ]
  },
  {
   "cell_type": "code",
   "execution_count": 0,
   "metadata": {
    "colab": {},
    "colab_type": "code",
    "id": "cKNCeUY5-ExK"
   },
   "outputs": [],
   "source": [
    "import numpy as np\n",
    "import pandas as pd\n",
    "import matplotlib.pyplot as plt\n",
    "import seaborn as sns"
   ]
  },
  {
   "cell_type": "code",
   "execution_count": 9,
   "metadata": {
    "colab": {
     "base_uri": "https://localhost:8080/",
     "height": 121
    },
    "colab_type": "code",
    "id": "vuNe4E27ApAN",
    "outputId": "1afb2e63-b574-4995-bf4a-b1ba8feb4b05"
   },
   "outputs": [
    {
     "name": "stdout",
     "output_type": "stream",
     "text": [
      "Go to this URL in a browser: https://accounts.google.com/o/oauth2/auth?client_id=947318989803-6bn6qk8qdgf4n4g3pfee6491hc0brc4i.apps.googleusercontent.com&redirect_uri=urn%3Aietf%3Awg%3Aoauth%3A2.0%3Aoob&scope=email%20https%3A%2F%2Fwww.googleapis.com%2Fauth%2Fdocs.test%20https%3A%2F%2Fwww.googleapis.com%2Fauth%2Fdrive%20https%3A%2F%2Fwww.googleapis.com%2Fauth%2Fdrive.photos.readonly%20https%3A%2F%2Fwww.googleapis.com%2Fauth%2Fpeopleapi.readonly&response_type=code\n",
      "\n",
      "Enter your authorization code:\n",
      "··········\n",
      "Mounted at /content/drive/\n"
     ]
    }
   ],
   "source": [
    "from google.colab import drive\n",
    "drive.mount(\"/content/drive/\")"
   ]
  },
  {
   "cell_type": "markdown",
   "metadata": {
    "colab_type": "text",
    "id": "yO9RceOx-ExN"
   },
   "source": [
    "## Preparing Training Dataset"
   ]
  },
  {
   "cell_type": "code",
   "execution_count": 0,
   "metadata": {
    "colab": {},
    "colab_type": "code",
    "id": "q1pA73ZE-ExO"
   },
   "outputs": [],
   "source": [
    "data=pd.read_csv(\"/content/drive/My Drive/My Projects/898ce544-0-MLChallenge_1Datac63af4e (1)/train_indessa.csv\")"
   ]
  },
  {
   "cell_type": "code",
   "execution_count": 11,
   "metadata": {
    "colab": {
     "base_uri": "https://localhost:8080/",
     "height": 34
    },
    "colab_type": "code",
    "id": "iC37oMG4-ExQ",
    "outputId": "523c1022-8f4b-4eb4-c050-a113a8bd209a"
   },
   "outputs": [
    {
     "data": {
      "text/plain": [
       "(532428, 45)"
      ]
     },
     "execution_count": 11,
     "metadata": {
      "tags": []
     },
     "output_type": "execute_result"
    }
   ],
   "source": [
    "data.shape"
   ]
  },
  {
   "cell_type": "code",
   "execution_count": 12,
   "metadata": {
    "colab": {
     "base_uri": "https://localhost:8080/",
     "height": 450
    },
    "colab_type": "code",
    "id": "SUwGYOmg-ExT",
    "outputId": "b5ea553f-7498-4c4f-afae-b53d98492b46"
   },
   "outputs": [
    {
     "data": {
      "text/html": [
       "<div>\n",
       "<style scoped>\n",
       "    .dataframe tbody tr th:only-of-type {\n",
       "        vertical-align: middle;\n",
       "    }\n",
       "\n",
       "    .dataframe tbody tr th {\n",
       "        vertical-align: top;\n",
       "    }\n",
       "\n",
       "    .dataframe thead th {\n",
       "        text-align: right;\n",
       "    }\n",
       "</style>\n",
       "<table border=\"1\" class=\"dataframe\">\n",
       "  <thead>\n",
       "    <tr style=\"text-align: right;\">\n",
       "      <th></th>\n",
       "      <th>member_id</th>\n",
       "      <th>loan_amnt</th>\n",
       "      <th>funded_amnt</th>\n",
       "      <th>funded_amnt_inv</th>\n",
       "      <th>term</th>\n",
       "      <th>batch_enrolled</th>\n",
       "      <th>int_rate</th>\n",
       "      <th>grade</th>\n",
       "      <th>sub_grade</th>\n",
       "      <th>emp_title</th>\n",
       "      <th>emp_length</th>\n",
       "      <th>home_ownership</th>\n",
       "      <th>annual_inc</th>\n",
       "      <th>verification_status</th>\n",
       "      <th>pymnt_plan</th>\n",
       "      <th>desc</th>\n",
       "      <th>purpose</th>\n",
       "      <th>title</th>\n",
       "      <th>zip_code</th>\n",
       "      <th>addr_state</th>\n",
       "      <th>dti</th>\n",
       "      <th>delinq_2yrs</th>\n",
       "      <th>inq_last_6mths</th>\n",
       "      <th>mths_since_last_delinq</th>\n",
       "      <th>mths_since_last_record</th>\n",
       "      <th>open_acc</th>\n",
       "      <th>pub_rec</th>\n",
       "      <th>revol_bal</th>\n",
       "      <th>revol_util</th>\n",
       "      <th>total_acc</th>\n",
       "      <th>initial_list_status</th>\n",
       "      <th>total_rec_int</th>\n",
       "      <th>total_rec_late_fee</th>\n",
       "      <th>recoveries</th>\n",
       "      <th>collection_recovery_fee</th>\n",
       "      <th>collections_12_mths_ex_med</th>\n",
       "      <th>mths_since_last_major_derog</th>\n",
       "      <th>application_type</th>\n",
       "      <th>verification_status_joint</th>\n",
       "      <th>last_week_pay</th>\n",
       "      <th>acc_now_delinq</th>\n",
       "      <th>tot_coll_amt</th>\n",
       "      <th>tot_cur_bal</th>\n",
       "      <th>total_rev_hi_lim</th>\n",
       "      <th>loan_status</th>\n",
       "    </tr>\n",
       "  </thead>\n",
       "  <tbody>\n",
       "    <tr>\n",
       "      <th>0</th>\n",
       "      <td>58189336</td>\n",
       "      <td>14350</td>\n",
       "      <td>14350</td>\n",
       "      <td>14350.0</td>\n",
       "      <td>36 months</td>\n",
       "      <td></td>\n",
       "      <td>19.19</td>\n",
       "      <td>E</td>\n",
       "      <td>E3</td>\n",
       "      <td>clerk</td>\n",
       "      <td>9 years</td>\n",
       "      <td>OWN</td>\n",
       "      <td>28700.0</td>\n",
       "      <td>Source Verified</td>\n",
       "      <td>n</td>\n",
       "      <td>NaN</td>\n",
       "      <td>debt_consolidation</td>\n",
       "      <td>Debt consolidation</td>\n",
       "      <td>349xx</td>\n",
       "      <td>FL</td>\n",
       "      <td>33.88</td>\n",
       "      <td>0.0</td>\n",
       "      <td>1.0</td>\n",
       "      <td>50.0</td>\n",
       "      <td>75.0</td>\n",
       "      <td>14.0</td>\n",
       "      <td>1.0</td>\n",
       "      <td>22515.0</td>\n",
       "      <td>73.1</td>\n",
       "      <td>28.0</td>\n",
       "      <td>f</td>\n",
       "      <td>1173.84</td>\n",
       "      <td>0.0</td>\n",
       "      <td>0.0</td>\n",
       "      <td>0.0</td>\n",
       "      <td>0.0</td>\n",
       "      <td>74.0</td>\n",
       "      <td>INDIVIDUAL</td>\n",
       "      <td>NaN</td>\n",
       "      <td>26th week</td>\n",
       "      <td>0.0</td>\n",
       "      <td>0.0</td>\n",
       "      <td>28699.0</td>\n",
       "      <td>30800.0</td>\n",
       "      <td>0</td>\n",
       "    </tr>\n",
       "    <tr>\n",
       "      <th>1</th>\n",
       "      <td>70011223</td>\n",
       "      <td>4800</td>\n",
       "      <td>4800</td>\n",
       "      <td>4800.0</td>\n",
       "      <td>36 months</td>\n",
       "      <td>BAT1586599</td>\n",
       "      <td>10.99</td>\n",
       "      <td>B</td>\n",
       "      <td>B4</td>\n",
       "      <td>Human Resources Specialist</td>\n",
       "      <td>&lt; 1 year</td>\n",
       "      <td>MORTGAGE</td>\n",
       "      <td>65000.0</td>\n",
       "      <td>Source Verified</td>\n",
       "      <td>n</td>\n",
       "      <td>NaN</td>\n",
       "      <td>home_improvement</td>\n",
       "      <td>Home improvement</td>\n",
       "      <td>209xx</td>\n",
       "      <td>MD</td>\n",
       "      <td>3.64</td>\n",
       "      <td>0.0</td>\n",
       "      <td>1.0</td>\n",
       "      <td>NaN</td>\n",
       "      <td>NaN</td>\n",
       "      <td>6.0</td>\n",
       "      <td>0.0</td>\n",
       "      <td>7624.0</td>\n",
       "      <td>23.2</td>\n",
       "      <td>13.0</td>\n",
       "      <td>w</td>\n",
       "      <td>83.95</td>\n",
       "      <td>0.0</td>\n",
       "      <td>0.0</td>\n",
       "      <td>0.0</td>\n",
       "      <td>0.0</td>\n",
       "      <td>NaN</td>\n",
       "      <td>INDIVIDUAL</td>\n",
       "      <td>NaN</td>\n",
       "      <td>9th week</td>\n",
       "      <td>0.0</td>\n",
       "      <td>0.0</td>\n",
       "      <td>9974.0</td>\n",
       "      <td>32900.0</td>\n",
       "      <td>0</td>\n",
       "    </tr>\n",
       "    <tr>\n",
       "      <th>2</th>\n",
       "      <td>70255675</td>\n",
       "      <td>10000</td>\n",
       "      <td>10000</td>\n",
       "      <td>10000.0</td>\n",
       "      <td>36 months</td>\n",
       "      <td>BAT1586599</td>\n",
       "      <td>7.26</td>\n",
       "      <td>A</td>\n",
       "      <td>A4</td>\n",
       "      <td>Driver</td>\n",
       "      <td>2 years</td>\n",
       "      <td>OWN</td>\n",
       "      <td>45000.0</td>\n",
       "      <td>Not Verified</td>\n",
       "      <td>n</td>\n",
       "      <td>NaN</td>\n",
       "      <td>debt_consolidation</td>\n",
       "      <td>Debt consolidation</td>\n",
       "      <td>447xx</td>\n",
       "      <td>OH</td>\n",
       "      <td>18.42</td>\n",
       "      <td>0.0</td>\n",
       "      <td>0.0</td>\n",
       "      <td>NaN</td>\n",
       "      <td>NaN</td>\n",
       "      <td>5.0</td>\n",
       "      <td>0.0</td>\n",
       "      <td>10877.0</td>\n",
       "      <td>31.2</td>\n",
       "      <td>19.0</td>\n",
       "      <td>w</td>\n",
       "      <td>56.47</td>\n",
       "      <td>0.0</td>\n",
       "      <td>0.0</td>\n",
       "      <td>0.0</td>\n",
       "      <td>0.0</td>\n",
       "      <td>NaN</td>\n",
       "      <td>INDIVIDUAL</td>\n",
       "      <td>NaN</td>\n",
       "      <td>9th week</td>\n",
       "      <td>0.0</td>\n",
       "      <td>65.0</td>\n",
       "      <td>38295.0</td>\n",
       "      <td>34900.0</td>\n",
       "      <td>0</td>\n",
       "    </tr>\n",
       "    <tr>\n",
       "      <th>3</th>\n",
       "      <td>1893936</td>\n",
       "      <td>15000</td>\n",
       "      <td>15000</td>\n",
       "      <td>15000.0</td>\n",
       "      <td>36 months</td>\n",
       "      <td>BAT4808022</td>\n",
       "      <td>19.72</td>\n",
       "      <td>D</td>\n",
       "      <td>D5</td>\n",
       "      <td>Us office of Personnel Management</td>\n",
       "      <td>10+ years</td>\n",
       "      <td>RENT</td>\n",
       "      <td>105000.0</td>\n",
       "      <td>Not Verified</td>\n",
       "      <td>n</td>\n",
       "      <td>&gt; My goal is to obtain a loan to pay off my hi...</td>\n",
       "      <td>debt_consolidation</td>\n",
       "      <td>Debt consolidation</td>\n",
       "      <td>221xx</td>\n",
       "      <td>VA</td>\n",
       "      <td>14.97</td>\n",
       "      <td>0.0</td>\n",
       "      <td>2.0</td>\n",
       "      <td>46.0</td>\n",
       "      <td>NaN</td>\n",
       "      <td>10.0</td>\n",
       "      <td>0.0</td>\n",
       "      <td>13712.0</td>\n",
       "      <td>55.5</td>\n",
       "      <td>21.0</td>\n",
       "      <td>f</td>\n",
       "      <td>4858.62</td>\n",
       "      <td>0.0</td>\n",
       "      <td>0.0</td>\n",
       "      <td>0.0</td>\n",
       "      <td>0.0</td>\n",
       "      <td>NaN</td>\n",
       "      <td>INDIVIDUAL</td>\n",
       "      <td>NaN</td>\n",
       "      <td>135th week</td>\n",
       "      <td>0.0</td>\n",
       "      <td>0.0</td>\n",
       "      <td>55564.0</td>\n",
       "      <td>24700.0</td>\n",
       "      <td>0</td>\n",
       "    </tr>\n",
       "    <tr>\n",
       "      <th>4</th>\n",
       "      <td>7652106</td>\n",
       "      <td>16000</td>\n",
       "      <td>16000</td>\n",
       "      <td>16000.0</td>\n",
       "      <td>36 months</td>\n",
       "      <td>BAT2833642</td>\n",
       "      <td>10.64</td>\n",
       "      <td>B</td>\n",
       "      <td>B2</td>\n",
       "      <td>LAUSD-HOLLYWOOD HIGH SCHOOL</td>\n",
       "      <td>10+ years</td>\n",
       "      <td>RENT</td>\n",
       "      <td>52000.0</td>\n",
       "      <td>Verified</td>\n",
       "      <td>n</td>\n",
       "      <td>NaN</td>\n",
       "      <td>credit_card</td>\n",
       "      <td>refi</td>\n",
       "      <td>900xx</td>\n",
       "      <td>CA</td>\n",
       "      <td>20.16</td>\n",
       "      <td>0.0</td>\n",
       "      <td>0.0</td>\n",
       "      <td>NaN</td>\n",
       "      <td>NaN</td>\n",
       "      <td>11.0</td>\n",
       "      <td>0.0</td>\n",
       "      <td>35835.0</td>\n",
       "      <td>76.2</td>\n",
       "      <td>27.0</td>\n",
       "      <td>w</td>\n",
       "      <td>2296.41</td>\n",
       "      <td>0.0</td>\n",
       "      <td>0.0</td>\n",
       "      <td>0.0</td>\n",
       "      <td>0.0</td>\n",
       "      <td>NaN</td>\n",
       "      <td>INDIVIDUAL</td>\n",
       "      <td>NaN</td>\n",
       "      <td>96th week</td>\n",
       "      <td>0.0</td>\n",
       "      <td>0.0</td>\n",
       "      <td>47159.0</td>\n",
       "      <td>47033.0</td>\n",
       "      <td>0</td>\n",
       "    </tr>\n",
       "  </tbody>\n",
       "</table>\n",
       "</div>"
      ],
      "text/plain": [
       "   member_id  loan_amnt  ...  total_rev_hi_lim  loan_status\n",
       "0   58189336      14350  ...           30800.0            0\n",
       "1   70011223       4800  ...           32900.0            0\n",
       "2   70255675      10000  ...           34900.0            0\n",
       "3    1893936      15000  ...           24700.0            0\n",
       "4    7652106      16000  ...           47033.0            0\n",
       "\n",
       "[5 rows x 45 columns]"
      ]
     },
     "execution_count": 12,
     "metadata": {
      "tags": []
     },
     "output_type": "execute_result"
    }
   ],
   "source": [
    "data.head()"
   ]
  },
  {
   "cell_type": "markdown",
   "metadata": {
    "colab_type": "text",
    "id": "8s6g99I2-ExV"
   },
   "source": [
    "## Dealing with Null Values"
   ]
  },
  {
   "cell_type": "code",
   "execution_count": 0,
   "metadata": {
    "colab": {},
    "colab_type": "code",
    "id": "Uv1SkQGm-ExW",
    "outputId": "83640ebd-8178-4e7b-e787-75ffa2028f3f"
   },
   "outputs": [
    {
     "data": {
      "text/plain": [
       "member_id                           0\n",
       "loan_amnt                           0\n",
       "funded_amnt                         0\n",
       "funded_amnt_inv                     0\n",
       "term                                0\n",
       "batch_enrolled                  85149\n",
       "int_rate                            0\n",
       "grade                               0\n",
       "sub_grade                           0\n",
       "emp_title                       30833\n",
       "emp_length                      26891\n",
       "home_ownership                      0\n",
       "annual_inc                          3\n",
       "verification_status                 0\n",
       "pymnt_plan                          0\n",
       "desc                           456829\n",
       "purpose                             0\n",
       "title                              90\n",
       "zip_code                            0\n",
       "addr_state                          0\n",
       "dti                                 0\n",
       "delinq_2yrs                        16\n",
       "inq_last_6mths                     16\n",
       "mths_since_last_delinq         272554\n",
       "mths_since_last_record         450305\n",
       "open_acc                           16\n",
       "pub_rec                            16\n",
       "revol_bal                           0\n",
       "revol_util                        287\n",
       "total_acc                          16\n",
       "initial_list_status                 0\n",
       "total_rec_int                       0\n",
       "total_rec_late_fee                  0\n",
       "recoveries                          0\n",
       "collection_recovery_fee             0\n",
       "collections_12_mths_ex_med         95\n",
       "mths_since_last_major_derog    399448\n",
       "application_type                    0\n",
       "verification_status_joint      532123\n",
       "last_week_pay                       0\n",
       "acc_now_delinq                     16\n",
       "tot_coll_amt                    42004\n",
       "tot_cur_bal                     42004\n",
       "total_rev_hi_lim                42004\n",
       "loan_status                         0\n",
       "dtype: int64"
      ]
     },
     "execution_count": 59,
     "metadata": {
      "tags": []
     },
     "output_type": "execute_result"
    }
   ],
   "source": [
    "data.isnull().sum()# Checking null values %'s"
   ]
  },
  {
   "cell_type": "code",
   "execution_count": 13,
   "metadata": {
    "colab": {
     "base_uri": "https://localhost:8080/",
     "height": 34
    },
    "colab_type": "code",
    "id": "bj-uzLiy-ExY",
    "outputId": "29d88911-1609-4f6f-beab-f791c8bacd2f"
   },
   "outputs": [
    {
     "data": {
      "text/plain": [
       "532428"
      ]
     },
     "execution_count": 13,
     "metadata": {
      "tags": []
     },
     "output_type": "execute_result"
    }
   ],
   "source": [
    "data.member_id.value_counts().count()# Too many values and hence can be deleted"
   ]
  },
  {
   "cell_type": "code",
   "execution_count": 14,
   "metadata": {
    "colab": {
     "base_uri": "https://localhost:8080/",
     "height": 34
    },
    "colab_type": "code",
    "id": "86k5kG34-ExZ",
    "outputId": "deec6d4e-7dc1-4486-efaa-c1e5bcb03ed0"
   },
   "outputs": [
    {
     "name": "stdout",
     "output_type": "stream",
     "text": [
      "Mean funded_amnt: 14744.271291141713 funded_amnt_inv: 14704.92669637354\n"
     ]
    }
   ],
   "source": [
    "m1=data.funded_amnt.mean()\n",
    "m2=data.funded_amnt_inv.mean()\n",
    "print(\"Mean funded_amnt:\",m1,\"funded_amnt_inv:\",m2)# As means are close we can delete one of them ie funded_amnt_inv"
   ]
  },
  {
   "cell_type": "code",
   "execution_count": 15,
   "metadata": {
    "colab": {
     "base_uri": "https://localhost:8080/",
     "height": 34
    },
    "colab_type": "code",
    "id": "_4H8zu3A-Exb",
    "outputId": "d6824a1e-f707-42a2-ccbd-24ab1d5eae11"
   },
   "outputs": [
    {
     "data": {
      "text/plain": [
       "35"
      ]
     },
     "execution_count": 15,
     "metadata": {
      "tags": []
     },
     "output_type": "execute_result"
    }
   ],
   "source": [
    "data.sub_grade.value_counts().count()# As Grades are same as sub-grades we delete sun_grades"
   ]
  },
  {
   "cell_type": "code",
   "execution_count": 16,
   "metadata": {
    "colab": {
     "base_uri": "https://localhost:8080/",
     "height": 34
    },
    "colab_type": "code",
    "id": "aS4FI8vf-Exd",
    "outputId": "2884f18e-3bbe-4b1e-95e8-2165daf4874d"
   },
   "outputs": [
    {
     "data": {
      "text/plain": [
       "190124"
      ]
     },
     "execution_count": 16,
     "metadata": {
      "tags": []
     },
     "output_type": "execute_result"
    }
   ],
   "source": [
    "data.emp_title.value_counts().count()# too many catagories to be usefull, deleteing it"
   ]
  },
  {
   "cell_type": "code",
   "execution_count": 0,
   "metadata": {
    "colab": {},
    "colab_type": "code",
    "id": "AWIirLcD-Exf",
    "outputId": "4fdabb76-4c16-4b6d-ef13-d446c1a5991f"
   },
   "outputs": [
    {
     "data": {
      "text/plain": [
       "<matplotlib.axes._subplots.AxesSubplot at 0x28619ac36a0>"
      ]
     },
     "execution_count": 29,
     "metadata": {
      "tags": []
     },
     "output_type": "execute_result"
    },
    {
     "data": {
      "image/png": "[encoded data removed]",
      "text/plain": [
       "<Figure size 1080x648 with 1 Axes>"
      ]
     },
     "metadata": {
      "tags": []
     },
     "output_type": "display_data"
    }
   ],
   "source": [
    "sns.countplot(data.emp_length,hue=data.loan_status)# checking relationships"
   ]
  },
  {
   "cell_type": "markdown",
   "metadata": {
    "colab_type": "text",
    "id": "dcONiqI5-Exg"
   },
   "source": [
    "Data mostly contain entries with more than 10 years of work exp, no clear pattern found with respect to loan status."
   ]
  },
  {
   "cell_type": "code",
   "execution_count": 0,
   "metadata": {
    "colab": {},
    "colab_type": "code",
    "id": "s-S7Vn2Y-Exh",
    "outputId": "97381dfa-23ff-41de-9072-712c575a48eb"
   },
   "outputs": [
    {
     "data": {
      "text/plain": [
       "<matplotlib.axes._subplots.AxesSubplot at 0x28627988898>"
      ]
     },
     "execution_count": 30,
     "metadata": {
      "tags": []
     },
     "output_type": "execute_result"
    },
    {
     "data": {
      "image/png": "[encoded data removed]",
      "text/plain": [
       "<Figure size 1080x648 with 1 Axes>"
      ]
     },
     "metadata": {
      "tags": []
     },
     "output_type": "display_data"
    }
   ],
   "source": [
    "sns.countplot(data.home_ownership ,hue=data.loan_status)# checking relationships"
   ]
  },
  {
   "cell_type": "markdown",
   "metadata": {
    "colab_type": "text",
    "id": "q9IHGE7D-Exj"
   },
   "source": [
    "Again no relationship found between house ownership and loan status."
   ]
  },
  {
   "cell_type": "code",
   "execution_count": 0,
   "metadata": {
    "colab": {},
    "colab_type": "code",
    "id": "xeSC0JyD-Exj",
    "outputId": "dbfcebdc-b378-4d91-ba43-ac681651b81c"
   },
   "outputs": [
    {
     "data": {
      "text/plain": [
       "<matplotlib.axes._subplots.AxesSubplot at 0x2862786c7b8>"
      ]
     },
     "execution_count": 36,
     "metadata": {
      "tags": []
     },
     "output_type": "execute_result"
    },
    {
     "data": {
      "image/png": "[encoded data removed]",
      "text/plain": [
       "<Figure size 1080x648 with 1 Axes>"
      ]
     },
     "metadata": {
      "tags": []
     },
     "output_type": "display_data"
    }
   ],
   "source": [
    "sns.countplot(data.verification_status,hue=data.loan_status)# checking relationships"
   ]
  },
  {
   "cell_type": "markdown",
   "metadata": {
    "colab_type": "text",
    "id": "RrqmUKS0-Exl"
   },
   "source": [
    "Source Verified loans are less likley to default compared to \"Not Verified\" or \"Verified\"."
   ]
  },
  {
   "cell_type": "code",
   "execution_count": 0,
   "metadata": {
    "colab": {},
    "colab_type": "code",
    "id": "fU0Fdkiz-Exl",
    "outputId": "dc3ec372-0f75-4436-b3ff-f51187a0589b"
   },
   "outputs": [
    {
     "data": {
      "text/plain": [
       "<matplotlib.axes._subplots.AxesSubplot at 0x2861960d8d0>"
      ]
     },
     "execution_count": 37,
     "metadata": {
      "tags": []
     },
     "output_type": "execute_result"
    },
    {
     "data": {
      "image/png": "[encoded data removed]",
      "text/plain": [
       "<Figure size 1080x648 with 1 Axes>"
      ]
     },
     "metadata": {
      "tags": []
     },
     "output_type": "display_data"
    }
   ],
   "source": [
    "sns.countplot(data.pymnt_plan,hue=data.loan_status)# checking relationships"
   ]
  },
  {
   "cell_type": "markdown",
   "metadata": {
    "colab_type": "text",
    "id": "GcCbiMPk-Exn"
   },
   "source": [
    "insignificant column as there are very low count of \"y\" to understand a pattern or make a assumtion."
   ]
  },
  {
   "cell_type": "code",
   "execution_count": 0,
   "metadata": {
    "colab": {},
    "colab_type": "code",
    "id": "pqMxA964-Exn",
    "outputId": "4a3c2ae3-ceb3-4e1c-c785-269c09ae334a"
   },
   "outputs": [
    {
     "data": {
      "text/plain": [
       "<matplotlib.axes._subplots.AxesSubplot at 0x28619b7a828>"
      ]
     },
     "execution_count": 42,
     "metadata": {
      "tags": []
     },
     "output_type": "execute_result"
    },
    {
     "data": {
      "image/png": "[encoded data removed]",
      "text/plain": [
       "<Figure size 1080x648 with 1 Axes>"
      ]
     },
     "metadata": {
      "tags": []
     },
     "output_type": "display_data"
    }
   ],
   "source": [
    "sns.countplot(data.addr_state,hue=data.loan_status)# checking relationships"
   ]
  },
  {
   "cell_type": "markdown",
   "metadata": {
    "colab_type": "text",
    "id": "iC77hjVE-Exp"
   },
   "source": [
    "as state and zipcode passes same info,hence deleting zipcode"
   ]
  },
  {
   "cell_type": "code",
   "execution_count": 0,
   "metadata": {
    "colab": {},
    "colab_type": "code",
    "id": "FKRHcUaC-Exp",
    "outputId": "0011ee08-f850-4251-d149-fab02b69678a"
   },
   "outputs": [
    {
     "data": {
      "text/plain": [
       "<matplotlib.axes._subplots.AxesSubplot at 0x28627a13eb8>"
      ]
     },
     "execution_count": 43,
     "metadata": {
      "tags": []
     },
     "output_type": "execute_result"
    },
    {
     "data": {
      "image/png": "[encoded data removed]",
      "text/plain": [
       "<Figure size 1080x648 with 1 Axes>"
      ]
     },
     "metadata": {
      "tags": []
     },
     "output_type": "display_data"
    }
   ],
   "source": [
    "sns.countplot(data.delinq_2yrs,hue=data.loan_status)# checking relationships"
   ]
  },
  {
   "cell_type": "code",
   "execution_count": 0,
   "metadata": {
    "colab": {},
    "colab_type": "code",
    "id": "azABQT9j-Exr",
    "outputId": "3ae8c461-b38b-4bd5-8131-725df410474d"
   },
   "outputs": [
    {
     "data": {
      "text/plain": [
       "<matplotlib.axes._subplots.AxesSubplot at 0x28619709a58>"
      ]
     },
     "execution_count": 44,
     "metadata": {
      "tags": []
     },
     "output_type": "execute_result"
    },
    {
     "data": {
      "image/png": "[encoded data removed]",
      "text/plain": [
       "<Figure size 1080x648 with 1 Axes>"
      ]
     },
     "metadata": {
      "tags": []
     },
     "output_type": "display_data"
    }
   ],
   "source": [
    "sns.countplot(data.inq_last_6mths,hue=data.loan_status)# checking relationships"
   ]
  },
  {
   "cell_type": "code",
   "execution_count": 0,
   "metadata": {
    "colab": {},
    "colab_type": "code",
    "id": "_4YRC3Hn-Ext",
    "outputId": "98fd06d0-5b14-47a2-fe4a-be7a921d2bb1"
   },
   "outputs": [
    {
     "data": {
      "text/plain": [
       "<matplotlib.axes._subplots.AxesSubplot at 0x2862adeb358>"
      ]
     },
     "execution_count": 49,
     "metadata": {
      "tags": []
     },
     "output_type": "execute_result"
    },
    {
     "data": {
      "image/png": "[encoded data removed]",
      "text/plain": [
       "<Figure size 1080x648 with 1 Axes>"
      ]
     },
     "metadata": {
      "tags": []
     },
     "output_type": "display_data"
    }
   ],
   "source": [
    "sns.boxplot(data.loan_status,data.mths_since_last_delinq)# checking relationships"
   ]
  },
  {
   "cell_type": "code",
   "execution_count": 0,
   "metadata": {
    "colab": {},
    "colab_type": "code",
    "id": "bqL6vYHA-Exx"
   },
   "outputs": [],
   "source": [
    "def last_week_pay(x):\n",
    "    l=x.split(\"t\")\n",
    "    return l[0]"
   ]
  },
  {
   "cell_type": "code",
   "execution_count": 0,
   "metadata": {
    "colab": {},
    "colab_type": "code",
    "id": "o8mST19W-Ex0"
   },
   "outputs": [],
   "source": [
    "data[\"last_week_pay\"]=data.last_week_pay.apply(last_week_pay)#Cleaning the columns"
   ]
  },
  {
   "cell_type": "code",
   "execution_count": 0,
   "metadata": {
    "colab": {},
    "colab_type": "code",
    "id": "gVd9NWE2-Ex2"
   },
   "outputs": [],
   "source": [
    "def emp_length(x):\n",
    "    if type(x)!=float:\n",
    "        l=x.split(\" \")\n",
    "        for i in l:\n",
    "            if i.isdigit()==True:\n",
    "                return int(i)\n",
    "            elif len(i)==3:\n",
    "                return 10\n",
    "    else:\n",
    "        return x"
   ]
  },
  {
   "cell_type": "code",
   "execution_count": 0,
   "metadata": {
    "colab": {},
    "colab_type": "code",
    "id": "sizhRE1q-Ex3"
   },
   "outputs": [],
   "source": [
    "data[\"emp_length\"]=data.emp_length.apply(emp_length)#Cleaning the columns"
   ]
  },
  {
   "cell_type": "code",
   "execution_count": 0,
   "metadata": {
    "colab": {},
    "colab_type": "code",
    "id": "uNGQcZAl-Ex5"
   },
   "outputs": [],
   "source": [
    "def term(x):\n",
    "    l=x.split(\" \")\n",
    "    return l[0]"
   ]
  },
  {
   "cell_type": "code",
   "execution_count": 0,
   "metadata": {
    "colab": {},
    "colab_type": "code",
    "id": "sd8I1__L-Ex7"
   },
   "outputs": [],
   "source": [
    "data[\"term\"]=data.term.apply(term)#Cleaning the columns"
   ]
  },
  {
   "cell_type": "code",
   "execution_count": 0,
   "metadata": {
    "colab": {},
    "colab_type": "code",
    "id": "lYfRGoo2-Ex9"
   },
   "outputs": [],
   "source": [
    "data.loan_status[data.emp_length.isnull()==True].value_counts()/(22403+4488)"
   ]
  },
  {
   "cell_type": "code",
   "execution_count": 0,
   "metadata": {
    "colab": {},
    "colab_type": "code",
    "id": "nyDXk4A_-Ex-"
   },
   "outputs": [],
   "source": [
    "data[data.emp_length.isnull()==True]"
   ]
  },
  {
   "cell_type": "markdown",
   "metadata": {
    "colab_type": "text",
    "id": "UM758kgE-EyA"
   },
   "source": [
    "assuming all null values of emp_length are of entries with no employment records as evident that emp_title is also null for same, hence we are imputing with 0."
   ]
  },
  {
   "cell_type": "code",
   "execution_count": 0,
   "metadata": {
    "colab": {},
    "colab_type": "code",
    "id": "pM4Oq0RR-EyB"
   },
   "outputs": [],
   "source": [
    "data.emp_length.fillna(1,inplace=True)#impute with 1 as 1 indicates <1"
   ]
  },
  {
   "cell_type": "code",
   "execution_count": 0,
   "metadata": {
    "colab": {},
    "colab_type": "code",
    "id": "GR82SnlY-EyD"
   },
   "outputs": [],
   "source": [
    "data[data.annual_inc.isnull()==True]"
   ]
  },
  {
   "cell_type": "markdown",
   "metadata": {
    "colab_type": "text",
    "id": "6VyEq3du-EyF"
   },
   "source": [
    "as it is understood these guys are newly employed entries with annual income not calculated yet or verifed yet. hence imputing with annual inc of entries with less that 1 year emp_length."
   ]
  },
  {
   "cell_type": "code",
   "execution_count": 0,
   "metadata": {
    "colab": {},
    "colab_type": "code",
    "id": "F1SH-8kf-EyG"
   },
   "outputs": [],
   "source": [
    "data.annual_inc.fillna(data.groupby(by=\"emp_length\").median()[\"annual_inc\"][1.0],inplace=True)"
   ]
  },
  {
   "cell_type": "code",
   "execution_count": 0,
   "metadata": {
    "colab": {},
    "colab_type": "code",
    "id": "2VXp-guY-EyI"
   },
   "outputs": [],
   "source": [
    "data[data.delinq_2yrs.isnull()==True].head()"
   ]
  },
  {
   "cell_type": "code",
   "execution_count": 40,
   "metadata": {
    "colab": {
     "base_uri": "https://localhost:8080/",
     "height": 34
    },
    "colab_type": "code",
    "id": "3DixcDjb-EyJ",
    "outputId": "46e9b397-b19a-495d-9996-e6178b2f26ae"
   },
   "outputs": [
    {
     "data": {
      "text/plain": [
       "1.0"
      ]
     },
     "execution_count": 40,
     "metadata": {
      "tags": []
     },
     "output_type": "execute_result"
    }
   ],
   "source": [
    "data.emp_length[data.delinq_2yrs.isnull()==True].median()"
   ]
  },
  {
   "cell_type": "code",
   "execution_count": 0,
   "metadata": {
    "colab": {},
    "colab_type": "code",
    "id": "s6DjQk1n-EyK"
   },
   "outputs": [],
   "source": []
  },
  {
   "cell_type": "markdown",
   "metadata": {
    "colab_type": "text",
    "id": "eSyULa1g-EyM"
   },
   "source": [
    "as majority of entries with nulls in delinq_2yrs are with emp_length less than 1yr, we can impute this null with 0"
   ]
  },
  {
   "cell_type": "code",
   "execution_count": 0,
   "metadata": {
    "colab": {},
    "colab_type": "code",
    "id": "fX3io27e-EyM"
   },
   "outputs": [],
   "source": [
    "data.delinq_2yrs.fillna(-1,inplace=True)#For other missing values, I used -1. This was done to give them a level of their own."
   ]
  },
  {
   "cell_type": "code",
   "execution_count": 0,
   "metadata": {
    "colab": {},
    "colab_type": "code",
    "id": "l9n8QIIs-EyN"
   },
   "outputs": [],
   "source": [
    "data.inq_last_6mths.fillna(-1,inplace=True)# same number of nulls, Hence same concept"
   ]
  },
  {
   "cell_type": "code",
   "execution_count": 0,
   "metadata": {
    "colab": {},
    "colab_type": "code",
    "id": "eEIZPydt-EyP"
   },
   "outputs": [],
   "source": [
    "data.open_acc.fillna(-1,inplace=True)# same number of nulls, Hence same concept"
   ]
  },
  {
   "cell_type": "code",
   "execution_count": 0,
   "metadata": {
    "colab": {},
    "colab_type": "code",
    "id": "ieejR4vk-EyR"
   },
   "outputs": [],
   "source": [
    "data.pub_rec.fillna(-1,inplace=True)# same number of nulls, Hence same concept"
   ]
  },
  {
   "cell_type": "code",
   "execution_count": 0,
   "metadata": {
    "colab": {},
    "colab_type": "code",
    "id": "nAigN2Jn-EyS"
   },
   "outputs": [],
   "source": [
    "data.total_acc.fillna(-1,inplace=True)# same number of nulls, Hence same concept"
   ]
  },
  {
   "cell_type": "code",
   "execution_count": 0,
   "metadata": {
    "colab": {},
    "colab_type": "code",
    "id": "LP5zanO9-EyV"
   },
   "outputs": [],
   "source": [
    "data.acc_now_delinq.fillna(-1,inplace=True)# same number of nulls, Hence same concept"
   ]
  },
  {
   "cell_type": "code",
   "execution_count": 0,
   "metadata": {
    "colab": {},
    "colab_type": "code",
    "id": "CnAp1vxs-EyW"
   },
   "outputs": [],
   "source": [
    "data[\"mths_since_last_delinq\"]=np.where(((data.delinq_2yrs==0)&(data.mths_since_last_delinq.isnull()==True)),24,data.mths_since_last_delinq)"
   ]
  },
  {
   "cell_type": "markdown",
   "metadata": {
    "colab_type": "text",
    "id": "p75zXw27-EyY"
   },
   "source": [
    "Logical Imputation\n",
    "\n",
    "if the number of 30+ days delinquency in past 2 years is 0 then number of months since last delinq has to be 24 months minimum, hence the imputation."
   ]
  },
  {
   "cell_type": "code",
   "execution_count": 52,
   "metadata": {
    "colab": {
     "base_uri": "https://localhost:8080/",
     "height": 34
    },
    "colab_type": "code",
    "id": "QdohY6Ko-EyZ",
    "outputId": "7b892259-eab7-43b5-e90f-d71d1ef7d7b7"
   },
   "outputs": [
    {
     "data": {
      "text/plain": [
       "(16, 45)"
      ]
     },
     "execution_count": 52,
     "metadata": {
      "tags": []
     },
     "output_type": "execute_result"
    }
   ],
   "source": [
    "data[data.mths_since_last_delinq.isnull()==True].shape"
   ]
  },
  {
   "cell_type": "code",
   "execution_count": 0,
   "metadata": {
    "colab": {},
    "colab_type": "code",
    "id": "A5wqXc54-Eyb"
   },
   "outputs": [],
   "source": [
    "data[\"mths_since_last_delinq\"]=np.where(((data.mths_since_last_delinq.isnull()==True)&(data.delinq_2yrs>0)),round((24/((data.delinq_2yrs)+1)),0),data.mths_since_last_delinq)"
   ]
  },
  {
   "cell_type": "code",
   "execution_count": 0,
   "metadata": {
    "colab": {},
    "colab_type": "code",
    "id": "N7hpCriYLR8m"
   },
   "outputs": [],
   "source": [
    "data.mths_since_last_delinq.fillna(-99,inplace=True)"
   ]
  },
  {
   "cell_type": "code",
   "execution_count": 0,
   "metadata": {
    "colab": {},
    "colab_type": "code",
    "id": "wYLMu_Bd-Eyd"
   },
   "outputs": [],
   "source": [
    "data[\"mths_since_last_record\"]=np.where((data.mths_since_last_record.isnull()==True),0,1)"
   ]
  },
  {
   "cell_type": "markdown",
   "metadata": {
    "colab_type": "text",
    "id": "wF-DoG_t-Eye"
   },
   "source": [
    "logical Imputation\n",
    "\n",
    "mths_since_last_delinq=24/(delinq_2yrs+1)  (Maximum number of months since last delinq with given number of 30+ days delinquency in past 2 years)\n",
    "\n",
    "mths_since_last_record= 0==No,1==Yes."
   ]
  },
  {
   "cell_type": "code",
   "execution_count": 0,
   "metadata": {
    "colab": {},
    "colab_type": "code",
    "id": "XpW3-Zi_LotP"
   },
   "outputs": [],
   "source": [
    "data[data.revol_util.isnull()==True]"
   ]
  },
  {
   "cell_type": "code",
   "execution_count": 0,
   "metadata": {
    "colab": {},
    "colab_type": "code",
    "id": "2-34XszO-Eyf"
   },
   "outputs": [],
   "source": [
    "data.revol_util.fillna(-1,inplace=True)"
   ]
  },
  {
   "cell_type": "code",
   "execution_count": 0,
   "metadata": {
    "colab": {},
    "colab_type": "code",
    "id": "sf5nV97x-Eyg"
   },
   "outputs": [],
   "source": [
    "data.collections_12_mths_ex_med.value_counts()# too many zeros, hence deleting the column."
   ]
  },
  {
   "cell_type": "code",
   "execution_count": 0,
   "metadata": {
    "colab": {},
    "colab_type": "code",
    "id": "VyqOGIFt-Eyj"
   },
   "outputs": [],
   "source": [
    "data.tot_coll_amt.fillna(-1,inplace=True)\n",
    "data.tot_cur_bal.fillna(-1,inplace=True)\n",
    "data.total_rev_hi_lim.fillna(-1,inplace=True)"
   ]
  },
  {
   "cell_type": "code",
   "execution_count": 0,
   "metadata": {
    "colab": {},
    "colab_type": "code",
    "id": "4zmHLNEb-Eyl"
   },
   "outputs": [],
   "source": [
    "data.zip_code.value_counts().count()"
   ]
  },
  {
   "cell_type": "code",
   "execution_count": 60,
   "metadata": {
    "colab": {
     "base_uri": "https://localhost:8080/",
     "height": 84
    },
    "colab_type": "code",
    "id": "D_aF22BC-Eym",
    "outputId": "569cb7cd-57d9-4f82-d012-329b3bbf13a7"
   },
   "outputs": [
    {
     "data": {
      "text/plain": [
       "Not Verified       170\n",
       "Verified           102\n",
       "Source Verified     33\n",
       "Name: verification_status_joint, dtype: int64"
      ]
     },
     "execution_count": 60,
     "metadata": {
      "tags": []
     },
     "output_type": "execute_result"
    }
   ],
   "source": [
    "data.verification_status_joint.value_counts()"
   ]
  },
  {
   "cell_type": "code",
   "execution_count": 0,
   "metadata": {
    "colab": {},
    "colab_type": "code",
    "id": "j2NHvRkwaqCz"
   },
   "outputs": [],
   "source": [
    "data.isnull().sum()"
   ]
  },
  {
   "cell_type": "code",
   "execution_count": 0,
   "metadata": {
    "colab": {},
    "colab_type": "code",
    "id": "6drt611n-Eyo"
   },
   "outputs": [],
   "source": [
    "data.drop(columns=\"member_id\",inplace=True)# Not Required\n",
    "data.drop(columns=\"batch_enrolled\",inplace=True)# Not Required as its same as member id\n",
    "data.drop(columns=\"desc\",inplace=True)# too many null values\n",
    "data.drop(columns=\"mths_since_last_major_derog\",inplace=True)# too many null values\n",
    "data.drop(columns=\"verification_status_joint\",inplace=True)# too many null values\n",
    "data.drop(columns=\"pymnt_plan\",inplace=True)# discussed above\n",
    "data.drop(columns=\"collections_12_mths_ex_med\",inplace=True)# discussed above"
   ]
  },
  {
   "cell_type": "code",
   "execution_count": 0,
   "metadata": {
    "colab": {},
    "colab_type": "code",
    "id": "-SJpoQxX-Eyr"
   },
   "outputs": [],
   "source": [
    "data.isnull().sum()"
   ]
  },
  {
   "cell_type": "code",
   "execution_count": 0,
   "metadata": {
    "colab": {},
    "colab_type": "code",
    "id": "VSX4BQ-9-Eyt"
   },
   "outputs": [],
   "source": [
    "data.drop(columns=\"emp_title\",inplace=True)"
   ]
  },
  {
   "cell_type": "code",
   "execution_count": 0,
   "metadata": {
    "colab": {},
    "colab_type": "code",
    "id": "RaxelqN2bV7p"
   },
   "outputs": [],
   "source": [
    "def clean_title(raw):\n",
    "    if ('debt' in raw) or ('consol' in raw) or ('lidation' in raw):\n",
    "        return 'debt consolidation'\n",
    "    elif ('credit' in raw) or ('card' in raw):\n",
    "        return 'credit card'\n",
    "    elif 'wedd' in raw or 'marr' in raw:\n",
    "        return 'wedding'\n",
    "    elif 'home' in raw or 'house' in raw or 'bath' in raw:\n",
    "        return 'home'\n",
    "    elif ('car' in raw) or ('motor' in raw) or ('truck' in raw) or ('auto') in raw:\n",
    "        return 'vehicle'\n",
    "    elif ('payoff' in raw) or ('off' in raw) :\n",
    "        return 'payoff'\n",
    "    elif 'freedom' in raw:\n",
    "        return 'freedom'\n",
    "    elif 'pool' in raw:\n",
    "        return 'pool'\n",
    "    elif 'persona' in raw :\n",
    "        return 'personal'\n",
    "    elif 'vacation' in raw:\n",
    "        return 'vacation'\n",
    "    elif 'hosp' in raw or 'med' in raw:\n",
    "        return 'medical'\n",
    "    elif 'loan' in raw:\n",
    "        return 'some loan'\n",
    "    elif 'movin' in raw:\n",
    "        return 'moving'\n",
    "    else :\n",
    "        return raw"
   ]
  },
  {
   "cell_type": "code",
   "execution_count": 0,
   "metadata": {
    "colab": {},
    "colab_type": "code",
    "id": "EAEDaqkpbeMk"
   },
   "outputs": [],
   "source": [
    "data['title'] = data.title.apply(lambda x : x.lower() if type(x) == str else '')\n",
    "data['title'] = data.title.apply(clean_title)"
   ]
  },
  {
   "cell_type": "code",
   "execution_count": 0,
   "metadata": {
    "colab": {},
    "colab_type": "code",
    "id": "8P8KJI2HbtoJ"
   },
   "outputs": [],
   "source": [
    "title_list = data.title.values\n",
    "\n",
    "from collections import Counter\n",
    "wordsDict = Counter(title_list)\n",
    "wordsDictSorted = wordsDict.most_common()\n",
    "wordsDictSorted = dict(wordsDictSorted)\n",
    "\n",
    "title_list = []\n",
    "for i in wordsDictSorted:\n",
    "    if wordsDictSorted[i] > 1:\n",
    "        title_list.append(i)\n",
    "    else :\n",
    "        break"
   ]
  },
  {
   "cell_type": "code",
   "execution_count": 0,
   "metadata": {
    "colab": {},
    "colab_type": "code",
    "id": "Ahj6XDrmcI4b"
   },
   "outputs": [],
   "source": [
    "def final_title(raw):\n",
    "    if raw in title_list:\n",
    "        return raw\n",
    "    else :\n",
    "        return 'Other 2'\n",
    "data['title'] = data.title.apply(final_title)"
   ]
  },
  {
   "cell_type": "code",
   "execution_count": 0,
   "metadata": {
    "colab": {},
    "colab_type": "code",
    "id": "bBP91pxp-Eyu"
   },
   "outputs": [],
   "source": [
    "data[\"term\"]=pd.to_numeric(data.term)"
   ]
  },
  {
   "cell_type": "code",
   "execution_count": 0,
   "metadata": {
    "colab": {},
    "colab_type": "code",
    "id": "M4mN_GXU-Eyv"
   },
   "outputs": [],
   "source": [
    "data[\"emp_length\"]=pd.to_numeric(data.emp_length)"
   ]
  },
  {
   "cell_type": "code",
   "execution_count": 0,
   "metadata": {
    "colab": {},
    "colab_type": "code",
    "id": "gGhbfral-Eyz"
   },
   "outputs": [],
   "source": [
    "data.last_week_pay=np.where((data.last_week_pay==\"NA\"),-1,data.last_week_pay)"
   ]
  },
  {
   "cell_type": "code",
   "execution_count": 0,
   "metadata": {
    "colab": {},
    "colab_type": "code",
    "id": "mqwRNkN5-Ey0"
   },
   "outputs": [],
   "source": [
    "data[\"last_week_pay\"]=pd.to_numeric(data.last_week_pay)"
   ]
  },
  {
   "cell_type": "code",
   "execution_count": 0,
   "metadata": {
    "colab": {},
    "colab_type": "code",
    "id": "l4EDAGJa-Ey1"
   },
   "outputs": [],
   "source": [
    "data.groupby(by=[\"sub_grade\",\"loan_status\"]).median()"
   ]
  },
  {
   "cell_type": "code",
   "execution_count": 0,
   "metadata": {
    "colab": {},
    "colab_type": "code",
    "id": "DZpjr_jG-Ey2"
   },
   "outputs": [],
   "source": [
    "from sklearn.preprocessing import LabelEncoder"
   ]
  },
  {
   "cell_type": "code",
   "execution_count": 0,
   "metadata": {
    "colab": {},
    "colab_type": "code",
    "id": "_4tPm0v1-Ey3"
   },
   "outputs": [],
   "source": [
    "le=LabelEncoder()"
   ]
  },
  {
   "cell_type": "code",
   "execution_count": 0,
   "metadata": {
    "colab": {},
    "colab_type": "code",
    "id": "F0Aqd_pufInj"
   },
   "outputs": [],
   "source": [
    "data.info()"
   ]
  },
  {
   "cell_type": "code",
   "execution_count": 0,
   "metadata": {
    "colab": {},
    "colab_type": "code",
    "id": "MS4ZPpUzdrKg"
   },
   "outputs": [],
   "source": [
    "cat_cols=list(data.columns[data.dtypes == 'object'])"
   ]
  },
  {
   "cell_type": "code",
   "execution_count": 0,
   "metadata": {
    "colab": {},
    "colab_type": "code",
    "id": "bXxsIXU9fXGQ"
   },
   "outputs": [],
   "source": [
    "for i in cat_cols:\n",
    "  data[i]=le.fit_transform(data[i])"
   ]
  },
  {
   "cell_type": "code",
   "execution_count": 0,
   "metadata": {
    "colab": {},
    "colab_type": "code",
    "id": "5lv2D9zO-EzJ"
   },
   "outputs": [],
   "source": [
    "data.shape"
   ]
  },
  {
   "cell_type": "markdown",
   "metadata": {
    "colab_type": "text",
    "id": "W3oMHt58gDPT"
   },
   "source": [
    "### **New** **Features**"
   ]
  },
  {
   "cell_type": "code",
   "execution_count": 0,
   "metadata": {
    "colab": {},
    "colab_type": "code",
    "id": "e52FXWZx-EzK"
   },
   "outputs": [],
   "source": [
    "value = -9999\n",
    "\n",
    "def helping_features(value):\n",
    "    data['Interest'] = data['funded_amnt']*data['int_rate']*data['term']/(100*12)\n",
    "    if value == -9999:\n",
    "        data['Monthly_income'] = data['annual_inc'].apply(lambda x : x/12 if x >=0 else -9999)\n",
    "        data['Monthly_debt_repay'] = data['Monthly_income'] * data['dti']/100\n",
    "        data['Monthly_debt_repay'] = data['Monthly_debt_repay'].apply(lambda x : x if x>0 else -9999) \n",
    "    else :\n",
    "        data['Monthly_income'] = data['annual_inc']/12\n",
    "        data['Monthly_debt_repay'] = data['Monthly_income'] * data['dti']/100"
   ]
  },
  {
   "cell_type": "code",
   "execution_count": 0,
   "metadata": {
    "colab": {},
    "colab_type": "code",
    "id": "lvvOsdAzgp0U"
   },
   "outputs": [],
   "source": [
    "helping_features(-9999)"
   ]
  },
  {
   "cell_type": "code",
   "execution_count": 0,
   "metadata": {
    "colab": {},
    "colab_type": "code",
    "id": "ZpYJXbjRgpgr"
   },
   "outputs": [],
   "source": [
    "data.head()"
   ]
  },
  {
   "cell_type": "code",
   "execution_count": 0,
   "metadata": {
    "colab": {},
    "colab_type": "code",
    "id": "28Jzq-MugpHM"
   },
   "outputs": [],
   "source": [
    "data['unpaid_perc'] = (data['Interest'] - data['total_rec_int'])/data['Interest']"
   ]
  },
  {
   "cell_type": "code",
   "execution_count": 0,
   "metadata": {
    "colab": {},
    "colab_type": "code",
    "id": "JELlahk_hPFw"
   },
   "outputs": [],
   "source": [
    "data['last_to_term'] = data['last_week_pay']/(data['term']*52/12)"
   ]
  },
  {
   "cell_type": "code",
   "execution_count": 0,
   "metadata": {
    "colab": {},
    "colab_type": "code",
    "id": "Akwdho-Lm_TJ"
   },
   "outputs": [],
   "source": [
    "data.total_rev_hi_lim[data.total_rev_hi_lim==0]=-1"
   ]
  },
  {
   "cell_type": "code",
   "execution_count": 0,
   "metadata": {
    "colab": {},
    "colab_type": "code",
    "id": "j7KgoDXvhO7J"
   },
   "outputs": [],
   "source": [
    "data['monthly_int_to_debt_repay'] = data['Interest']/data['Monthly_debt_repay']/12\n",
    "data['iti'] = data['Interest']/data['Monthly_income']/12\n",
    "data['dti_and_iti'] = data['iti'] + data['dti']\n",
    "data['dtc'] = data['Monthly_debt_repay']/data['total_rev_hi_lim']/12\n",
    "data['itc'] = data['Interest']/data['total_rev_hi_lim']/(12*12)"
   ]
  },
  {
   "cell_type": "code",
   "execution_count": 0,
   "metadata": {
    "colab": {},
    "colab_type": "code",
    "id": "NtpOO_jnmIEY"
   },
   "outputs": [],
   "source": []
  },
  {
   "cell_type": "code",
   "execution_count": 0,
   "metadata": {
    "colab": {},
    "colab_type": "code",
    "id": "5-p6DSNYhOvu"
   },
   "outputs": [],
   "source": [
    "data.head()"
   ]
  },
  {
   "cell_type": "code",
   "execution_count": 0,
   "metadata": {
    "colab": {},
    "colab_type": "code",
    "id": "R-Xm1VCwhOlH"
   },
   "outputs": [],
   "source": [
    "data.corr()"
   ]
  },
  {
   "cell_type": "code",
   "execution_count": 100,
   "metadata": {
    "colab": {
     "base_uri": "https://localhost:8080/",
     "height": 34
    },
    "colab_type": "code",
    "id": "eQ7eAtV2hOZ6",
    "outputId": "bc83f5b2-b8d9-4d21-c57f-45d8158b0c5b"
   },
   "outputs": [
    {
     "data": {
      "text/plain": [
       "0"
      ]
     },
     "execution_count": 100,
     "metadata": {
      "tags": []
     },
     "output_type": "execute_result"
    }
   ],
   "source": [
    "data.isnull().sum().sum()"
   ]
  },
  {
   "cell_type": "code",
   "execution_count": 0,
   "metadata": {
    "colab": {},
    "colab_type": "code",
    "id": "Qp0Q91ZUhOLr"
   },
   "outputs": [],
   "source": [
    "data.info()"
   ]
  },
  {
   "cell_type": "markdown",
   "metadata": {
    "colab_type": "text",
    "id": "GUZChbKnjK7y"
   },
   "source": [
    "### **Model** **Building**"
   ]
  },
  {
   "cell_type": "code",
   "execution_count": 0,
   "metadata": {
    "colab": {},
    "colab_type": "code",
    "id": "NWPe973shN8Z"
   },
   "outputs": [],
   "source": []
  },
  {
   "cell_type": "code",
   "execution_count": 0,
   "metadata": {
    "colab": {},
    "colab_type": "code",
    "id": "zHaE8fyV-EzL"
   },
   "outputs": [],
   "source": [
    "from sklearn.ensemble import RandomForestClassifier\n",
    "from sklearn.linear_model import LogisticRegression\n",
    "from sklearn.model_selection import KFold,cross_val_score,train_test_split\n",
    "from sklearn.metrics import classification_report,confusion_matrix\n",
    "from lightgbm import LGBMClassifier\n",
    "from xgboost import XGBClassifier\n",
    "from sklearn.preprocessing import Imputer\n",
    "import warnings\n",
    "warnings.filterwarnings(\"ignore\")"
   ]
  },
  {
   "cell_type": "code",
   "execution_count": 0,
   "metadata": {
    "colab": {},
    "colab_type": "code",
    "id": "Ezm4hYQQ-EzN"
   },
   "outputs": [],
   "source": [
    "x=data.drop(columns=\"loan_status\")\n",
    "y=data.loan_status"
   ]
  },
  {
   "cell_type": "code",
   "execution_count": 0,
   "metadata": {
    "colab": {},
    "colab_type": "code",
    "id": "pJ0WjWWO-EzP"
   },
   "outputs": [],
   "source": [
    "model1=LogisticRegression( n_jobs=-1)"
   ]
  },
  {
   "cell_type": "code",
   "execution_count": 0,
   "metadata": {
    "colab": {},
    "colab_type": "code",
    "id": "_cgikZVf-EzQ"
   },
   "outputs": [],
   "source": [
    "model2=RandomForestClassifier(n_estimators=100,criterion='gini', n_jobs=-1)"
   ]
  },
  {
   "cell_type": "code",
   "execution_count": 0,
   "metadata": {
    "colab": {},
    "colab_type": "code",
    "id": "wNKQjN7m-EzR"
   },
   "outputs": [],
   "source": [
    "model3=LGBMClassifier(boosting_type='goss',learning_rate=0.1,objective=\"binary\",n_estimators=100)"
   ]
  },
  {
   "cell_type": "code",
   "execution_count": 0,
   "metadata": {
    "colab": {},
    "colab_type": "code",
    "id": "eipcBQVf-EzS"
   },
   "outputs": [],
   "source": [
    "model4=XGBClassifier(booster='gbtree',learning_rate=0.1,n_estimators=500,max_depth=10)"
   ]
  },
  {
   "cell_type": "code",
   "execution_count": 129,
   "metadata": {
    "colab": {
     "base_uri": "https://localhost:8080/",
     "height": 34
    },
    "colab_type": "code",
    "id": "sZfS0QvV-EzT",
    "outputId": "5129717a-1f99-46a7-8970-fbc83b4dbcde"
   },
   "outputs": [
    {
     "name": "stdout",
     "output_type": "stream",
     "text": [
      "ROC_AUC: 0.9756952904252424 VAR: 0.000981657221001024 XGBM\n"
     ]
    }
   ],
   "source": [
    "for model,name in zip([model4],[\"XGBM\"]):\n",
    "    error=[]\n",
    "    kfold=KFold(shuffle=True,n_splits=5,random_state=0)\n",
    "    error=cross_val_score(model,x,y,scoring='roc_auc',cv=kfold)\n",
    "    print(\"ROC_AUC:\",np.mean(error),\"VAR:\",np.std(error,ddof=1),name)"
   ]
  },
  {
   "cell_type": "markdown",
   "metadata": {
    "colab_type": "text",
    "id": "hVgDtPZ4-EzU"
   },
   "source": [
    "ROC_AUC: 0.7387347930182386 VAR: 0.01096134475748502 LR\n",
    "\n",
    "ROC_AUC: 0.8694256550681105 VAR: 0.0017657837509172864 RF(n_estimators=100,criterion='gini', n_jobs=-1)\n",
    "\n",
    "ROC_AUC: 0.9259098678460674 VAR: 0.0009347618289493431 LGBM(boosting_type='goss',learning_rate=0.1,objective=\"binary\",n_estimators=100)\n",
    "\n",
    "ROC_AUC: 0.9756952904252424 VAR: 0.000981657221001024 XGBM(booster='gbtree',learning_rate=0.1,n_estimators=500,max_depth=10)"
   ]
  },
  {
   "cell_type": "code",
   "execution_count": 170,
   "metadata": {
    "colab": {
     "base_uri": "https://localhost:8080/",
     "height": 134
    },
    "colab_type": "code",
    "id": "b6f7ypoH-EzU",
    "outputId": "404777d0-8c7c-45de-a18f-5f00341cb3d1"
   },
   "outputs": [
    {
     "data": {
      "text/plain": [
       "XGBClassifier(base_score=0.5, booster='gbtree', colsample_bylevel=1,\n",
       "              colsample_bynode=1, colsample_bytree=1, gamma=0,\n",
       "              learning_rate=0.1, max_delta_step=0, max_depth=10,\n",
       "              min_child_weight=1, missing=None, n_estimators=500, n_jobs=1,\n",
       "              nthread=None, objective='binary:logistic', random_state=0,\n",
       "              reg_alpha=0, reg_lambda=1, scale_pos_weight=1, seed=None,\n",
       "              silent=None, subsample=1, verbosity=1)"
      ]
     },
     "execution_count": 170,
     "metadata": {
      "tags": []
     },
     "output_type": "execute_result"
    }
   ],
   "source": [
    "model4.fit(x,y)"
   ]
  },
  {
   "cell_type": "code",
   "execution_count": 0,
   "metadata": {
    "colab": {},
    "colab_type": "code",
    "id": "1_bshN0l3L8O"
   },
   "outputs": [],
   "source": [
    "features=model4.feature_importances_"
   ]
  },
  {
   "cell_type": "code",
   "execution_count": 172,
   "metadata": {
    "colab": {
     "base_uri": "https://localhost:8080/",
     "height": 558
    },
    "colab_type": "code",
    "id": "zM-H-8fN5CGB",
    "outputId": "b60541ae-adc1-4874-82d6-4334384d2020"
   },
   "outputs": [
    {
     "data": {
      "text/plain": [
       "<matplotlib.axes._subplots.AxesSubplot at 0x7fa13f9543c8>"
      ]
     },
     "execution_count": 172,
     "metadata": {
      "tags": []
     },
     "output_type": "execute_result"
    },
    {
     "data": {
      "image/png": "[encoded data removed]",
      "text/plain": [
       "<Figure size 1152x648 with 1 Axes>"
      ]
     },
     "metadata": {
      "tags": []
     },
     "output_type": "display_data"
    }
   ],
   "source": [
    "feat_importances = pd.Series(features, index=x.columns)\n",
    "plt.figure(figsize=(16,9))\n",
    "feat_importances.nsmallest(46).plot(kind='barh')"
   ]
  },
  {
   "cell_type": "code",
   "execution_count": 0,
   "metadata": {
    "colab": {},
    "colab_type": "code",
    "id": "PqxG_chTTv-l"
   },
   "outputs": [],
   "source": [
    "x_train,x_test,y_train,y_test=train_test_split(x,y,test_size=0.30)"
   ]
  },
  {
   "cell_type": "code",
   "execution_count": 0,
   "metadata": {
    "colab": {},
    "colab_type": "code",
    "id": "OkxXb52UULs6"
   },
   "outputs": [],
   "source": [
    "y_pred=model4.predict(x_test)"
   ]
  },
  {
   "cell_type": "code",
   "execution_count": 0,
   "metadata": {
    "colab": {},
    "colab_type": "code",
    "id": "emKE7qIjUWSk"
   },
   "outputs": [],
   "source": [
    "cm=confusion_matrix(y_test,y_pred)"
   ]
  },
  {
   "cell_type": "code",
   "execution_count": 189,
   "metadata": {
    "colab": {
     "base_uri": "https://localhost:8080/",
     "height": 50
    },
    "colab_type": "code",
    "id": "pKxPn5p1UcX5",
    "outputId": "9f3c280a-e6a2-423c-dc57-978ee9d33233"
   },
   "outputs": [
    {
     "name": "stdout",
     "output_type": "stream",
     "text": [
      "[[120979   1235]\n",
      " [  3119  34396]]\n"
     ]
    }
   ],
   "source": [
    "print(cm)"
   ]
  },
  {
   "cell_type": "code",
   "execution_count": 190,
   "metadata": {
    "colab": {
     "base_uri": "https://localhost:8080/",
     "height": 168
    },
    "colab_type": "code",
    "id": "QSFgRUbWUf18",
    "outputId": "d6967341-6680-4067-8434-d112ab142729"
   },
   "outputs": [
    {
     "name": "stdout",
     "output_type": "stream",
     "text": [
      "              precision    recall  f1-score   support\n",
      "\n",
      "           0       0.97      0.99      0.98    122214\n",
      "           1       0.97      0.92      0.94     37515\n",
      "\n",
      "    accuracy                           0.97    159729\n",
      "   macro avg       0.97      0.95      0.96    159729\n",
      "weighted avg       0.97      0.97      0.97    159729\n",
      "\n"
     ]
    }
   ],
   "source": [
    "cr=classification_report(y_test,y_pred)\n",
    "print(cr)"
   ]
  },
  {
   "cell_type": "markdown",
   "metadata": {
    "colab_type": "text",
    "id": "IhfRzjV477XW"
   },
   "source": [
    "### Test DataSet"
   ]
  },
  {
   "cell_type": "code",
   "execution_count": 0,
   "metadata": {
    "colab": {},
    "colab_type": "code",
    "id": "QrKgLVkI3c0r"
   },
   "outputs": [],
   "source": [
    "test=pd.read_csv(\"/content/drive/My Drive/My Projects/898ce544-0-MLChallenge_1Datac63af4e (1)/test_indessa.csv\")"
   ]
  },
  {
   "cell_type": "code",
   "execution_count": 0,
   "metadata": {
    "colab": {},
    "colab_type": "code",
    "id": "YQVwQLr98FBx"
   },
   "outputs": [],
   "source": [
    "test.head()"
   ]
  },
  {
   "cell_type": "code",
   "execution_count": 0,
   "metadata": {
    "colab": {},
    "colab_type": "code",
    "id": "5Bt41qVL8kD-"
   },
   "outputs": [],
   "source": [
    "test.isnull().sum()"
   ]
  },
  {
   "cell_type": "markdown",
   "metadata": {
    "colab_type": "text",
    "id": "azQnDq5WB-KZ"
   },
   "source": [
    "Treating Nulls and Deleting columns"
   ]
  },
  {
   "cell_type": "code",
   "execution_count": 0,
   "metadata": {
    "colab": {},
    "colab_type": "code",
    "id": "uLxyBsaR8n0H"
   },
   "outputs": [],
   "source": []
  },
  {
   "cell_type": "code",
   "execution_count": 0,
   "metadata": {
    "colab": {},
    "colab_type": "code",
    "id": "_YauuzkV9A_g"
   },
   "outputs": [],
   "source": [
    "test.drop(columns=\"member_id\",inplace=True)# Not Required\n",
    "test.drop(columns=\"batch_enrolled\",inplace=True)# Not Required as its same as member id\n",
    "test.drop(columns=\"desc\",inplace=True)# too many null values\n",
    "test.drop(columns=\"mths_since_last_major_derog\",inplace=True)# too many null values\n",
    "test.drop(columns=\"verification_status_joint\",inplace=True)# too many null values\n",
    "test.drop(columns=\"pymnt_plan\",inplace=True)# discussed above\n",
    "test.drop(columns=\"collections_12_mths_ex_med\",inplace=True)# discussed above\n",
    "test.drop(columns=\"emp_title\",inplace=True)"
   ]
  },
  {
   "cell_type": "code",
   "execution_count": 0,
   "metadata": {
    "colab": {},
    "colab_type": "code",
    "id": "p8W5p5T19er2"
   },
   "outputs": [],
   "source": [
    "test['title'] = test.title.apply(lambda x : x.lower() if type(x) == str else '')\n",
    "test['title'] = test.title.apply(clean_title)\n",
    "title_list = test.title.values\n",
    "\n",
    "from collections import Counter\n",
    "wordsDict = Counter(title_list)\n",
    "wordsDictSorted = wordsDict.most_common()\n",
    "wordsDictSorted = dict(wordsDictSorted)\n",
    "\n",
    "title_list = []\n",
    "for i in wordsDictSorted:\n",
    "    if wordsDictSorted[i] > 1:\n",
    "        title_list.append(i)\n",
    "    else :\n",
    "        break"
   ]
  },
  {
   "cell_type": "code",
   "execution_count": 0,
   "metadata": {
    "colab": {},
    "colab_type": "code",
    "id": "8oiJWCm3-Ise"
   },
   "outputs": [],
   "source": [
    "test['title'] = test.title.apply(final_title)"
   ]
  },
  {
   "cell_type": "code",
   "execution_count": 0,
   "metadata": {
    "colab": {},
    "colab_type": "code",
    "id": "0p8eJy5o-Wpt"
   },
   "outputs": [],
   "source": [
    "test[\"last_week_pay\"]=test.last_week_pay.apply(last_week_pay)\n",
    "test[\"emp_length\"]=test.emp_length.apply(emp_length)#Cleaning the columns\n",
    "test[\"term\"]=test.term.apply(term)#Cleaning the columns\n",
    "test.annual_inc.fillna(test.groupby(by=\"emp_length\").median()[\"annual_inc\"][1.0],inplace=True)\n",
    "test.delinq_2yrs.fillna(-1,inplace=True)\n",
    "test.inq_last_6mths.fillna(-1,inplace=True)\n",
    "test.open_acc.fillna(-1,inplace=True)\n",
    "test.pub_rec.fillna(-1,inplace=True)\n",
    "test.total_acc.fillna(-1,inplace=True)\n",
    "test.acc_now_delinq.fillna(-1,inplace=True)\n",
    "test[\"mths_since_last_delinq\"]=np.where(((test.delinq_2yrs==0)&(test.mths_since_last_delinq.isnull()==True)),24,test.mths_since_last_delinq)\n",
    "test[\"mths_since_last_delinq\"]=np.where(((test.mths_since_last_delinq.isnull()==True)&(test.delinq_2yrs>0)),round((24/((test.delinq_2yrs)+1)),0),test.mths_since_last_delinq)\n",
    "test.mths_since_last_delinq.fillna(-99,inplace=True)\n",
    "test[\"mths_since_last_record\"]=np.where((test.mths_since_last_record.isnull()==True),0,1)\n",
    "test.revol_util.fillna(-1,inplace=True)\n",
    "test.tot_coll_amt.fillna(-1,inplace=True)\n",
    "test.tot_cur_bal.fillna(-1,inplace=True)\n",
    "test.total_rev_hi_lim.fillna(-1,inplace=True)\n",
    "test.emp_length.fillna(1,inplace=True)#impute with 1 as 1 indicates <1"
   ]
  },
  {
   "cell_type": "code",
   "execution_count": 0,
   "metadata": {
    "colab": {},
    "colab_type": "code",
    "id": "tnsSakkcBVCb"
   },
   "outputs": [],
   "source": []
  },
  {
   "cell_type": "markdown",
   "metadata": {
    "colab_type": "text",
    "id": "Kovt6_zACJ9m"
   },
   "source": [
    "New Features"
   ]
  },
  {
   "cell_type": "code",
   "execution_count": 0,
   "metadata": {
    "colab": {},
    "colab_type": "code",
    "id": "slv-rxkQB0cb"
   },
   "outputs": [],
   "source": [
    "value = -9999\n",
    "\n",
    "def helping_features_test(value):\n",
    "    test['Interest'] = test['funded_amnt']*test['int_rate']*test['term']/(100*12)\n",
    "    if value == -9999:\n",
    "        test['Monthly_income'] = test['annual_inc'].apply(lambda x : x/12 if x >=0 else -9999)\n",
    "        test['Monthly_debt_repay'] = test['Monthly_income'] * test['dti']/100\n",
    "        test['Monthly_debt_repay'] = test['Monthly_debt_repay'].apply(lambda x : x if x>0 else -9999) \n",
    "    else :\n",
    "        test['Monthly_income'] = test['annual_inc']/12\n",
    "        test['Monthly_debt_repay'] = test['Monthly_income'] * test['dti']/100"
   ]
  },
  {
   "cell_type": "code",
   "execution_count": 0,
   "metadata": {
    "colab": {},
    "colab_type": "code",
    "id": "9j3YzqUVDjx-"
   },
   "outputs": [],
   "source": [
    "test[\"term\"]=pd.to_numeric(test.term)\n",
    "test[\"emp_length\"]=pd.to_numeric(test.emp_length)\n",
    "test.last_week_pay=np.where((test.last_week_pay==\"NA\"),-1,test.last_week_pay)\n",
    "test[\"last_week_pay\"]=pd.to_numeric(test.last_week_pay)"
   ]
  },
  {
   "cell_type": "code",
   "execution_count": 0,
   "metadata": {
    "colab": {},
    "colab_type": "code",
    "id": "5JGObuqGC2E1"
   },
   "outputs": [],
   "source": [
    "helping_features_test(-9999)\n",
    "test['unpaid_perc'] = (test['Interest'] - test['total_rec_int'])/test['Interest']\n",
    "test['last_to_term'] = test['last_week_pay']/(test['term']*52/12)\n",
    "test.total_rev_hi_lim[test.total_rev_hi_lim==0]=-1"
   ]
  },
  {
   "cell_type": "code",
   "execution_count": 0,
   "metadata": {
    "colab": {},
    "colab_type": "code",
    "id": "JBMJlJs2Ddv3"
   },
   "outputs": [],
   "source": [
    "test['monthly_int_to_debt_repay'] = test['Interest']/test['Monthly_debt_repay']/12\n",
    "test['iti'] = test['Interest']/test['Monthly_income']/12\n",
    "test['dti_and_iti'] = test['iti'] + test['dti']\n",
    "test['dtc'] = test['Monthly_debt_repay']/test['total_rev_hi_lim']/12\n",
    "test['itc'] = test['Interest']/test['total_rev_hi_lim']/(12*12)"
   ]
  },
  {
   "cell_type": "code",
   "execution_count": 0,
   "metadata": {
    "colab": {},
    "colab_type": "code",
    "id": "mPJw_bwaEfdb"
   },
   "outputs": [],
   "source": [
    "cat_cols_test=list(test.columns[test.dtypes == 'object'])\n",
    "for i in cat_cols_test:\n",
    "  test[i]=le.fit_transform(test[i])"
   ]
  },
  {
   "cell_type": "code",
   "execution_count": 169,
   "metadata": {
    "colab": {
     "base_uri": "https://localhost:8080/",
     "height": 34
    },
    "colab_type": "code",
    "id": "innPpD_uFDVK",
    "outputId": "9ae24812-9165-4d48-e830-59eefb58117f"
   },
   "outputs": [
    {
     "name": "stdout",
     "output_type": "stream",
     "text": [
      "(354951, 46) (532428, 46)\n"
     ]
    }
   ],
   "source": [
    "print(test.shape,x.shape)"
   ]
  },
  {
   "cell_type": "code",
   "execution_count": 0,
   "metadata": {
    "colab": {},
    "colab_type": "code",
    "id": "c79wBpUJFHzN"
   },
   "outputs": [],
   "source": [
    "sample_submission=pd.read_csv(\"/content/drive/My Drive/My Projects/898ce544-0-MLChallenge_1Datac63af4e (1)/sample_submission.csv\")"
   ]
  },
  {
   "cell_type": "code",
   "execution_count": 176,
   "metadata": {
    "colab": {
     "base_uri": "https://localhost:8080/",
     "height": 195
    },
    "colab_type": "code",
    "id": "nHdwmlBERmOr",
    "outputId": "3cc1952d-34f1-41db-c8ea-87d7d7a94ec0"
   },
   "outputs": [
    {
     "data": {
      "text/html": [
       "<div>\n",
       "<style scoped>\n",
       "    .dataframe tbody tr th:only-of-type {\n",
       "        vertical-align: middle;\n",
       "    }\n",
       "\n",
       "    .dataframe tbody tr th {\n",
       "        vertical-align: top;\n",
       "    }\n",
       "\n",
       "    .dataframe thead th {\n",
       "        text-align: right;\n",
       "    }\n",
       "</style>\n",
       "<table border=\"1\" class=\"dataframe\">\n",
       "  <thead>\n",
       "    <tr style=\"text-align: right;\">\n",
       "      <th></th>\n",
       "      <th>member_id</th>\n",
       "      <th>loan_status</th>\n",
       "    </tr>\n",
       "  </thead>\n",
       "  <tbody>\n",
       "    <tr>\n",
       "      <th>0</th>\n",
       "      <td>11937648</td>\n",
       "      <td>0.5</td>\n",
       "    </tr>\n",
       "    <tr>\n",
       "      <th>1</th>\n",
       "      <td>38983318</td>\n",
       "      <td>0.5</td>\n",
       "    </tr>\n",
       "    <tr>\n",
       "      <th>2</th>\n",
       "      <td>27999917</td>\n",
       "      <td>0.5</td>\n",
       "    </tr>\n",
       "    <tr>\n",
       "      <th>3</th>\n",
       "      <td>61514932</td>\n",
       "      <td>0.5</td>\n",
       "    </tr>\n",
       "    <tr>\n",
       "      <th>4</th>\n",
       "      <td>59622821</td>\n",
       "      <td>0.5</td>\n",
       "    </tr>\n",
       "  </tbody>\n",
       "</table>\n",
       "</div>"
      ],
      "text/plain": [
       "   member_id  loan_status\n",
       "0   11937648          0.5\n",
       "1   38983318          0.5\n",
       "2   27999917          0.5\n",
       "3   61514932          0.5\n",
       "4   59622821          0.5"
      ]
     },
     "execution_count": 176,
     "metadata": {
      "tags": []
     },
     "output_type": "execute_result"
    }
   ],
   "source": [
    "sample_submission.head()"
   ]
  },
  {
   "cell_type": "code",
   "execution_count": 0,
   "metadata": {
    "colab": {},
    "colab_type": "code",
    "id": "JDR2G6b4Rqeo"
   },
   "outputs": [],
   "source": [
    "final_submission=pd.read_csv(\"/content/drive/My Drive/My Projects/898ce544-0-MLChallenge_1Datac63af4e (1)/test_indessa.csv\")"
   ]
  },
  {
   "cell_type": "code",
   "execution_count": 0,
   "metadata": {
    "colab": {},
    "colab_type": "code",
    "id": "PAV4EJKmTArP"
   },
   "outputs": [],
   "source": [
    "final_submission=final_submission[[\"member_id\"]]"
   ]
  },
  {
   "cell_type": "code",
   "execution_count": 0,
   "metadata": {
    "colab": {},
    "colab_type": "code",
    "id": "Fl2yHp5WTNP0"
   },
   "outputs": [],
   "source": [
    "final_submission[\"loan_status\"]=model4.predict(test)"
   ]
  },
  {
   "cell_type": "code",
   "execution_count": 184,
   "metadata": {
    "colab": {
     "base_uri": "https://localhost:8080/",
     "height": 195
    },
    "colab_type": "code",
    "id": "QVAykZKyTP2z",
    "outputId": "24ff8868-f8b2-4e02-df2d-e88db85c66c4"
   },
   "outputs": [
    {
     "data": {
      "text/html": [
       "<div>\n",
       "<style scoped>\n",
       "    .dataframe tbody tr th:only-of-type {\n",
       "        vertical-align: middle;\n",
       "    }\n",
       "\n",
       "    .dataframe tbody tr th {\n",
       "        vertical-align: top;\n",
       "    }\n",
       "\n",
       "    .dataframe thead th {\n",
       "        text-align: right;\n",
       "    }\n",
       "</style>\n",
       "<table border=\"1\" class=\"dataframe\">\n",
       "  <thead>\n",
       "    <tr style=\"text-align: right;\">\n",
       "      <th></th>\n",
       "      <th>member_id</th>\n",
       "      <th>loan_status</th>\n",
       "    </tr>\n",
       "  </thead>\n",
       "  <tbody>\n",
       "    <tr>\n",
       "      <th>0</th>\n",
       "      <td>11937648</td>\n",
       "      <td>0</td>\n",
       "    </tr>\n",
       "    <tr>\n",
       "      <th>1</th>\n",
       "      <td>38983318</td>\n",
       "      <td>0</td>\n",
       "    </tr>\n",
       "    <tr>\n",
       "      <th>2</th>\n",
       "      <td>27999917</td>\n",
       "      <td>0</td>\n",
       "    </tr>\n",
       "    <tr>\n",
       "      <th>3</th>\n",
       "      <td>61514932</td>\n",
       "      <td>0</td>\n",
       "    </tr>\n",
       "    <tr>\n",
       "      <th>4</th>\n",
       "      <td>59622821</td>\n",
       "      <td>0</td>\n",
       "    </tr>\n",
       "  </tbody>\n",
       "</table>\n",
       "</div>"
      ],
      "text/plain": [
       "   member_id  loan_status\n",
       "0   11937648            0\n",
       "1   38983318            0\n",
       "2   27999917            0\n",
       "3   61514932            0\n",
       "4   59622821            0"
      ]
     },
     "execution_count": 184,
     "metadata": {
      "tags": []
     },
     "output_type": "execute_result"
    }
   ],
   "source": [
    "final_submission.head()"
   ]
  },
  {
   "cell_type": "code",
   "execution_count": 0,
   "metadata": {
    "colab": {},
    "colab_type": "code",
    "id": "2btHuQ_qTr0j"
   },
   "outputs": [],
   "source": [
    "final_submission.to_csv(\"final_submission.csv\")"
   ]
  },
  {
   "cell_type": "markdown",
   "metadata": {
    "colab_type": "text",
    "id": "uRx-Nb5kVm0D"
   },
   "source": [
    "## THE END"
   ]
  },
  {
   "cell_type": "code",
   "execution_count": 0,
   "metadata": {
    "colab": {},
    "colab_type": "code",
    "id": "2xnyLvcNVSM0"
   },
   "outputs": [],
   "source": []
  }
 ],
 "metadata": {
  "colab": {
   "collapsed_sections": [],
   "name": "Back froud case.ipynb",
   "provenance": []
  },
  "kernelspec": {
   "display_name": "Python 3",
   "language": "python",
   "name": "python3"
  },
  "language_info": {
   "codemirror_mode": {
    "name": "ipython",
    "version": 3
   },
   "file_extension": ".py",
   "mimetype": "text/x-python",
   "name": "python",
   "nbconvert_exporter": "python",
   "pygments_lexer": "ipython3",
   "version": "3.7.3"
  }
 },
 "nbformat": 4,
 "nbformat_minor": 1
}
